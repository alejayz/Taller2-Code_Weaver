{
 "cells": [
  {
   "cell_type": "code",
   "execution_count": null,
   "metadata": {},
   "outputs": [],
   "source": [
    "#Desarrollar un programa que determine si en una lista existen o no elementos repetidos.\n",
    "\n",
    "def elementRepetidos(lista: list) -> bool: #la entrada de la función es una lista y retorna un booleano\n",
    "    for i in lista: #recorre todos los elementos de la lista\n",
    "       if lista.count(i) > 1: #cuenta las repeticiones de los elementos de la lista\n",
    "           return True #retorna True si hay repeticiones en la lista\n",
    "       else:\n",
    "           return False #retorna False si no hay repeticiones en la lista\n",
    "\n",
    "if __name__ == \"__main__\":\n",
    "    n = int(input(\"ingrese la cantidad de elementos para la lista: \"))\n",
    "    lista = [(input(\"ingrese un elemento: \")) for x in range(n)]\n",
    "    elementosRepetidos = elementRepetidos(lista)\n",
    "    print(lista)\n",
    "    print(elementosRepetidos)"
   ]
  }
 ],
 "metadata": {
  "language_info": {
   "name": "python"
  }
 },
 "nbformat": 4,
 "nbformat_minor": 2
}
