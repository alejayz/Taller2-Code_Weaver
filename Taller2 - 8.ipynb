{
 "cells": [
  {
   "cell_type": "code",
   "execution_count": null,
   "metadata": {},
   "outputs": [],
   "source": [
    "#Desarrollar un programa que dadas dos listas determine que elementos tiene la primer lista que no tenga la segunda lista.\n",
    "\n",
    "def difLista(listaA:list, listaB:list) -> list: # las entradas de la función serán las dos listas\n",
    "    diferentes = [] #lista vacía para agregar los elementos diferentes\n",
    "    for i in listaA: #recorre la primera lista\n",
    "        if i not in listaB: #verifica qué elementos de la primera lista no están en la segunda\n",
    "            diferentes.append(i) #agrega a la variable \"diferentes\" los elementos diferentes\n",
    "    return diferentes\n",
    "\n",
    "\n",
    "if __name__ == \"__main__\":\n",
    "    listaA = []\n",
    "    listaB = []\n",
    "    n = int(input(\"ingrese la cantidad de elementos para la lista A: \"))\n",
    "    for x in range(n):\n",
    "        a = input(\"Ingrese un elemento para la lista A: \")\n",
    "        listaA.append(a)\n",
    "    z = int(input(\"ingrese la cantidad de elementos para la lista B: \"))\n",
    "    for x in range(z):\n",
    "        a = input(\"Ingrese un elemento para la lista B: \")\n",
    "        listaB.append(a)\n",
    "    elementDif = difLista(listaA, listaB)\n",
    "    print (elementDif)"
   ]
  }
 ],
 "metadata": {
  "language_info": {
   "name": "python"
  }
 },
 "nbformat": 4,
 "nbformat_minor": 2
}
