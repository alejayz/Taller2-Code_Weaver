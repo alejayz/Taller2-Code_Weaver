{
 "cells": [
  {
   "cell_type": "code",
   "execution_count": null,
   "metadata": {},
   "outputs": [],
   "source": [
    "#Desarrollar un programa que ingrese un número flotante n y separe su parte entera de la parte decimal, y luego entregue los dígitos tanto de la parte entera como de la decimal.\n",
    "import math\n",
    "def separar(a : float) -> list: #la entrada de la función es un número flotante y retorna una lista\n",
    "    d, e = math.modf(a) #separa la parte decimal y la parte entera del número\n",
    "    print(e) #imprime la parte entera\n",
    "    print(d) #imprime la parte decimal\n",
    "    digitos = [int(i) for i in str(a) if i != \".\"] #convierte el número a una lista de todos los dígitos del número ingresado\n",
    "    return digitos\n",
    "\n",
    "\n",
    "if __name__ == \"__main__\":\n",
    "    a = float(input(\"ingrese un numero: \"))\n",
    "    digitosNum = separar(a)\n",
    "    print (digitosNum)"
   ]
  }
 ],
 "metadata": {
  "language_info": {
   "name": "python"
  }
 },
 "nbformat": 4,
 "nbformat_minor": 2
}
