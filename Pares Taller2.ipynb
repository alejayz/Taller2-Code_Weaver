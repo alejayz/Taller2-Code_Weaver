{
 "cells": [
  {
   "cell_type": "code",
   "execution_count": 1,
   "metadata": {},
   "outputs": [
    {
     "name": "stdout",
     "output_type": "stream",
     "text": [
      "12.0\n",
      "0.6400000000000006\n",
      "[1, 2, 6, 4]\n"
     ]
    }
   ],
   "source": [
    "# 2. Desarrollar un programa que ingrese un número flotante n y separe su parte entera de la parte decimal, y luego entregue los dígitos tanto de la parte entera como de la decimal.\n",
    "import math\n",
    "def separar(a : float) -> list: #la entrada de la función es un número flotante y retorna una lista\n",
    "    d, e = math.modf(a) #separa la parte decimal y la parte entera del número\n",
    "    print(e) #imprime la parte entera\n",
    "    print(d) #imprime la parte decimal\n",
    "    digitos = [int(i) for i in str(a) if i != \".\"] #convierte el número a una lista de todos los dígitos del número ingresado\n",
    "    return digitos\n",
    "\n",
    "\n",
    "if __name__ == \"__main__\":\n",
    "    a = float(input(\"ingrese un numero: \"))\n",
    "    digitosNum = separar(a)\n",
    "    print (digitosNum)"
   ]
  },
  {
   "cell_type": "code",
   "execution_count": 2,
   "metadata": {},
   "outputs": [
    {
     "name": "stdout",
     "output_type": "stream",
     "text": [
      "['pero', '34', 'mis', 'pero']\n",
      "True\n"
     ]
    }
   ],
   "source": [
    "#6. Desarrollar un programa que determine si en una lista existen o no elementos repetidos.\n",
    "\n",
    "def elementRepetidos(lista: list) -> bool: #la entrada de la función es una lista y retorna un booleano\n",
    "    for i in lista: #recorre todos los elementos de la lista\n",
    "       if lista.count(i) > 1: #cuenta las repeticiones de los elementos de la lista\n",
    "           return True #retorna True si hay repeticiones en la lista\n",
    "       else:\n",
    "           return False #retorna False si no hay repeticiones en la lista\n",
    "\n",
    "if __name__ == \"__main__\":\n",
    "    n = int(input(\"ingrese la cantidad de elementos para la lista: \"))\n",
    "    lista = [(input(\"ingrese un elemento: \")) for x in range(n)]\n",
    "    elementosRepetidos = elementRepetidos(lista)\n",
    "    print(lista)\n",
    "    print(elementosRepetidos)"
   ]
  },
  {
   "cell_type": "code",
   "execution_count": 3,
   "metadata": {},
   "outputs": [
    {
     "name": "stdout",
     "output_type": "stream",
     "text": [
      "['ella', '45', 'nes', 'peli']\n"
     ]
    }
   ],
   "source": [
    "#8. Desarrollar un programa que dadas dos listas determine que elementos tiene la primer lista que no tenga la segunda lista.\n",
    "\n",
    "def difLista(listaA:list, listaB:list) -> list: # las entradas de la función serán las dos listas\n",
    "    diferentes = [] #lista vacía para agregar los elementos diferentes\n",
    "    for i in listaA: #recorre la primera lista\n",
    "        if i not in listaB: #verifica qué elementos de la primera lista no están en la segunda\n",
    "            diferentes.append(i) #agrega a la variable \"diferentes\" los elementos diferentes\n",
    "    return diferentes\n",
    "\n",
    "\n",
    "if __name__ == \"__main__\":\n",
    "    listaA = []\n",
    "    listaB = []\n",
    "    n = int(input(\"ingrese la cantidad de elementos para la lista A: \"))\n",
    "    for x in range(n):\n",
    "        a = input(\"Ingrese un elemento para la lista A: \")\n",
    "        listaA.append(a)\n",
    "    z = int(input(\"ingrese la cantidad de elementos para la lista B: \"))\n",
    "    for x in range(z):\n",
    "        a = input(\"Ingrese un elemento para la lista B: \")\n",
    "        listaB.append(a)\n",
    "    elementDif = difLista(listaA, listaB)\n",
    "    print (elementDif)"
   ]
  }
 ],
 "metadata": {
  "kernelspec": {
   "display_name": "Python 3",
   "language": "python",
   "name": "python3"
  },
  "language_info": {
   "codemirror_mode": {
    "name": "ipython",
    "version": 3
   },
   "file_extension": ".py",
   "mimetype": "text/x-python",
   "name": "python",
   "nbconvert_exporter": "python",
   "pygments_lexer": "ipython3",
   "version": "3.11.2"
  }
 },
 "nbformat": 4,
 "nbformat_minor": 2
}
